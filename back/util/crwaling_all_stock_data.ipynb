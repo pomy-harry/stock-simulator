{
 "cells": [
  {
   "cell_type": "markdown",
   "id": "e441904f",
   "metadata": {},
   "source": [
    "## 참고사이트\n",
    "- https://kang-stock-coding.tistory.com/19\n",
    "- https://www.dataquest.io/blog/sql-insert-tutorial/"
   ]
  },
  {
   "cell_type": "markdown",
   "id": "0051d2ce",
   "metadata": {},
   "source": [
    "## 종목코드 데이터 불러오기"
   ]
  },
  {
   "cell_type": "code",
   "execution_count": 13,
   "id": "21be84fa",
   "metadata": {},
   "outputs": [],
   "source": [
    "import pandas as pd"
   ]
  },
  {
   "cell_type": "code",
   "execution_count": 2,
   "id": "77472035",
   "metadata": {},
   "outputs": [],
   "source": [
    "df = pd.read_html('https://kind.krx.co.kr/corpgeneral/corpList.do?method=download', header=0)[0]\n",
    "df_stock = df.loc[:,['종목코드', '회사명']]\n",
    "df_stock.loc[:,'종목코드'] = df_stock.loc[:,'종목코드'].apply(str).str.rjust(6, '0')"
   ]
  },
  {
   "cell_type": "code",
   "execution_count": 3,
   "id": "12ed1273",
   "metadata": {},
   "outputs": [
    {
     "data": {
      "text/html": [
       "<div>\n",
       "<style scoped>\n",
       "    .dataframe tbody tr th:only-of-type {\n",
       "        vertical-align: middle;\n",
       "    }\n",
       "\n",
       "    .dataframe tbody tr th {\n",
       "        vertical-align: top;\n",
       "    }\n",
       "\n",
       "    .dataframe thead th {\n",
       "        text-align: right;\n",
       "    }\n",
       "</style>\n",
       "<table border=\"1\" class=\"dataframe\">\n",
       "  <thead>\n",
       "    <tr style=\"text-align: right;\">\n",
       "      <th></th>\n",
       "      <th>종목코드</th>\n",
       "      <th>회사명</th>\n",
       "    </tr>\n",
       "  </thead>\n",
       "  <tbody>\n",
       "    <tr>\n",
       "      <th>0</th>\n",
       "      <td>000210</td>\n",
       "      <td>DL</td>\n",
       "    </tr>\n",
       "    <tr>\n",
       "      <th>1</th>\n",
       "      <td>004840</td>\n",
       "      <td>DRB동일</td>\n",
       "    </tr>\n",
       "    <tr>\n",
       "      <th>2</th>\n",
       "      <td>155660</td>\n",
       "      <td>DSR</td>\n",
       "    </tr>\n",
       "    <tr>\n",
       "      <th>3</th>\n",
       "      <td>078930</td>\n",
       "      <td>GS</td>\n",
       "    </tr>\n",
       "    <tr>\n",
       "      <th>4</th>\n",
       "      <td>001390</td>\n",
       "      <td>KG케미칼</td>\n",
       "    </tr>\n",
       "    <tr>\n",
       "      <th>5</th>\n",
       "      <td>025000</td>\n",
       "      <td>KPX케미칼</td>\n",
       "    </tr>\n",
       "    <tr>\n",
       "      <th>6</th>\n",
       "      <td>058860</td>\n",
       "      <td>KTis</td>\n",
       "    </tr>\n",
       "    <tr>\n",
       "      <th>7</th>\n",
       "      <td>011070</td>\n",
       "      <td>LG이노텍</td>\n",
       "    </tr>\n",
       "    <tr>\n",
       "      <th>8</th>\n",
       "      <td>037560</td>\n",
       "      <td>LG헬로비전</td>\n",
       "    </tr>\n",
       "    <tr>\n",
       "      <th>9</th>\n",
       "      <td>108670</td>\n",
       "      <td>LX하우시스</td>\n",
       "    </tr>\n",
       "  </tbody>\n",
       "</table>\n",
       "</div>"
      ],
      "text/plain": [
       "     종목코드     회사명\n",
       "0  000210      DL\n",
       "1  004840   DRB동일\n",
       "2  155660     DSR\n",
       "3  078930      GS\n",
       "4  001390   KG케미칼\n",
       "5  025000  KPX케미칼\n",
       "6  058860    KTis\n",
       "7  011070   LG이노텍\n",
       "8  037560  LG헬로비전\n",
       "9  108670  LX하우시스"
      ]
     },
     "execution_count": 3,
     "metadata": {},
     "output_type": "execute_result"
    }
   ],
   "source": [
    "df_stock.head(10)"
   ]
  },
  {
   "cell_type": "code",
   "execution_count": 10,
   "id": "157efeb5",
   "metadata": {},
   "outputs": [],
   "source": [
    "stocks = list(df_stock['종목코드'])"
   ]
  },
  {
   "cell_type": "code",
   "execution_count": 11,
   "id": "09c6cc8d",
   "metadata": {},
   "outputs": [
    {
     "data": {
      "text/plain": [
       "list"
      ]
     },
     "execution_count": 11,
     "metadata": {},
     "output_type": "execute_result"
    }
   ],
   "source": [
    "type(stocks)"
   ]
  },
  {
   "cell_type": "code",
   "execution_count": 12,
   "id": "58b1eeb2",
   "metadata": {},
   "outputs": [
    {
     "data": {
      "text/plain": [
       "['000210',\n",
       " '004840',\n",
       " '155660',\n",
       " '078930',\n",
       " '001390',\n",
       " '025000',\n",
       " '058860',\n",
       " '011070',\n",
       " '037560',\n",
       " '108670']"
      ]
     },
     "execution_count": 12,
     "metadata": {},
     "output_type": "execute_result"
    }
   ],
   "source": [
    "stocks[:10]"
   ]
  },
  {
   "cell_type": "markdown",
   "id": "9f8822cf",
   "metadata": {},
   "source": [
    "## 주식 데이터 크롤링"
   ]
  },
  {
   "cell_type": "code",
   "execution_count": 65,
   "id": "07af47e4",
   "metadata": {},
   "outputs": [],
   "source": [
    "import requests\n",
    "from bs4 import BeautifulSoup as BS\n",
    "import re"
   ]
  },
  {
   "cell_type": "code",
   "execution_count": 18,
   "id": "84bc47dc",
   "metadata": {},
   "outputs": [],
   "source": [
    "head = {\"user-agent\": \"Mozilla/5.0 (Windows NT 10.0; Win64; x64) AppleWebKit/537.36 (KHTML, like Gecko) Chrome/99.0.4844.84 Safari/537.36\"}"
   ]
  },
  {
   "cell_type": "code",
   "execution_count": 82,
   "id": "6165e057",
   "metadata": {},
   "outputs": [],
   "source": [
    "def crawl_all_data(code):\n",
    "    url = 'https://finance.naver.com/item/sise_day.naver?code='+code+'&page=1'\n",
    "    r = requests.get(url, headers=head)\n",
    "    bs = BS(r.text, 'lxml')\n",
    "    \n",
    "    # 마지막 페이지 구하기\n",
    "    last_page = int(str(bs.find(\"table\", class_=\"Nnavi\").findAll(\"a\")[-1]).split(\"맨뒤\")[0].replace(\">\", \"\").replace(\"\\\"\", \"\").split(\"=\")[-1])\n",
    "    print(last_page)"
   ]
  },
  {
   "cell_type": "code",
   "execution_count": 83,
   "id": "5a7b604d",
   "metadata": {},
   "outputs": [
    {
     "name": "stdout",
     "output_type": "stream",
     "text": [
      "653\n",
      "653\n",
      "224\n",
      "443\n",
      "653\n",
      "535\n",
      "284\n",
      "344\n",
      "237\n",
      "326\n"
     ]
    }
   ],
   "source": [
    "for x in stocks[:10]:\n",
    "    crawl_all_data(x)"
   ]
  },
  {
   "cell_type": "code",
   "execution_count": null,
   "id": "861dc621",
   "metadata": {},
   "outputs": [],
   "source": [
    "def crawl_data(code, page):\n",
    "    url = 'https://finance.naver.com/item/sise_day.naver?code='+code+'&page='+page\n",
    "    r = requests.get(url, headers=head)\n",
    "    bs = BS(r.text, 'lxml')\n",
    "    "
   ]
  },
  {
   "cell_type": "code",
   "execution_count": null,
   "id": "1dfea9cd",
   "metadata": {},
   "outputs": [],
   "source": []
  },
  {
   "cell_type": "code",
   "execution_count": 84,
   "id": "45deac97",
   "metadata": {},
   "outputs": [],
   "source": [
    "url = 'https://finance.naver.com/item/sise_day.naver?code=047810&page=1'\n",
    "r = requests.get(url, headers=head)\n",
    "bs = BS(r.text, 'lxml')"
   ]
  },
  {
   "cell_type": "code",
   "execution_count": 85,
   "id": "0e73f6c9",
   "metadata": {},
   "outputs": [],
   "source": [
    "columns = bs.find(\"table\").findAll(\"tr\")[0].text.strip().split(\"\\n\")"
   ]
  },
  {
   "cell_type": "code",
   "execution_count": 86,
   "id": "6cbf6789",
   "metadata": {},
   "outputs": [
    {
     "data": {
      "text/plain": [
       "['날짜', '종가', '전일비', '시가', '고가', '저가', '거래량']"
      ]
     },
     "execution_count": 86,
     "metadata": {},
     "output_type": "execute_result"
    }
   ],
   "source": [
    "columns"
   ]
  },
  {
   "cell_type": "code",
   "execution_count": 37,
   "id": "882e1566",
   "metadata": {},
   "outputs": [
    {
     "data": {
      "text/plain": [
       "'2022.06.22'"
      ]
     },
     "execution_count": 37,
     "metadata": {},
     "output_type": "execute_result"
    }
   ],
   "source": [
    "bs.find(\"table\").findAll(\"tr\")[2].findAll(\"td\")[0].text"
   ]
  },
  {
   "cell_type": "code",
   "execution_count": 45,
   "id": "6e80f611",
   "metadata": {},
   "outputs": [
    {
     "data": {
      "text/plain": [
       "''"
      ]
     },
     "execution_count": 45,
     "metadata": {},
     "output_type": "execute_result"
    }
   ],
   "source": [
    "bs.find(\"table\").findAll(\"tr\")[1].findAll(\"td\")[0].text"
   ]
  },
  {
   "cell_type": "code",
   "execution_count": 94,
   "id": "55b1b204",
   "metadata": {},
   "outputs": [],
   "source": [
    "stock_list = []\n",
    "for x in bs.find(\"table\").findAll(\"tr\")[2:]:\n",
    "    td = x.findAll(\"td\")\n",
    "    if td[0].text == '':\n",
    "        continue\n",
    "    stock_list.append([y.text.strip() for y in td])\n"
   ]
  },
  {
   "cell_type": "code",
   "execution_count": 95,
   "id": "b5e65441",
   "metadata": {},
   "outputs": [
    {
     "data": {
      "text/plain": [
       "[['2022.06.22', '51,500', '2,100', '54,100', '54,200', '50,900', '1,936,737'],\n",
       " ['2022.06.21', '53,600', '1,300', '55,000', '55,200', '51,000', '2,220,817'],\n",
       " ['2022.06.20', '54,900', '600', '55,700', '56,300', '53,700', '1,425,432'],\n",
       " ['2022.06.17', '54,300', '600', '53,500', '55,300', '53,400', '1,434,389'],\n",
       " ['2022.06.16', '54,900', '300', '53,500', '55,900', '52,500', '1,870,420'],\n",
       " ['2022.06.15', '54,600', '2,200', '57,500', '57,800', '53,800', '1,915,245'],\n",
       " ['2022.06.14', '56,800', '1,300', '57,100', '57,700', '53,300', '2,068,564'],\n",
       " ['2022.06.13', '58,100', '0', '59,100', '60,000', '57,300', '1,888,678'],\n",
       " ['2022.06.10', '58,100', '200', '57,800', '59,000', '57,200', '1,126,017'],\n",
       " ['2022.06.09', '57,900', '1,000', '56,900', '59,000', '56,500', '1,632,417']]"
      ]
     },
     "execution_count": 95,
     "metadata": {},
     "output_type": "execute_result"
    }
   ],
   "source": [
    "stock_list"
   ]
  },
  {
   "cell_type": "code",
   "execution_count": null,
   "id": "1b942781",
   "metadata": {},
   "outputs": [],
   "source": []
  }
 ],
 "metadata": {
  "kernelspec": {
   "display_name": "Python 3 (ipykernel)",
   "language": "python",
   "name": "python3"
  },
  "language_info": {
   "codemirror_mode": {
    "name": "ipython",
    "version": 3
   },
   "file_extension": ".py",
   "mimetype": "text/x-python",
   "name": "python",
   "nbconvert_exporter": "python",
   "pygments_lexer": "ipython3",
   "version": "3.9.7"
  }
 },
 "nbformat": 4,
 "nbformat_minor": 5
}
