{
 "cells": [
  {
   "cell_type": "markdown",
   "id": "78554cf9",
   "metadata": {},
   "source": [
    "# 파이썬 - 주식 종목 코드 MySQL 저장"
   ]
  },
  {
   "cell_type": "markdown",
   "id": "b03fb403",
   "metadata": {},
   "source": [
    "## 참고사이트"
   ]
  },
  {
   "cell_type": "markdown",
   "id": "b0c90a77",
   "metadata": {},
   "source": [
    "- https://kang-stock-coding.tistory.com/19\n",
    "- https://www.dataquest.io/blog/sql-insert-tutorial/"
   ]
  },
  {
   "cell_type": "markdown",
   "id": "0f2365d6",
   "metadata": {},
   "source": [
    "## 데이터 불러오기"
   ]
  },
  {
   "cell_type": "code",
   "execution_count": 1,
   "id": "ff2f5b58",
   "metadata": {},
   "outputs": [],
   "source": [
    "import pandas as pd"
   ]
  },
  {
   "cell_type": "code",
   "execution_count": 2,
   "id": "3785acde",
   "metadata": {},
   "outputs": [],
   "source": [
    "df = pd.read_html('https://kind.krx.co.kr/corpgeneral/corpList.do?method=download', header=0)[0]\n",
    "df_stock = df.loc[:,['종목코드', '회사명']]\n",
    "df_stock.loc[:,'종목코드'] = df_stock.loc[:,'종목코드'].apply(str).str.rjust(6, '0')"
   ]
  },
  {
   "cell_type": "code",
   "execution_count": 3,
   "id": "b0558f36",
   "metadata": {},
   "outputs": [
    {
     "data": {
      "text/html": [
       "<div>\n",
       "<style scoped>\n",
       "    .dataframe tbody tr th:only-of-type {\n",
       "        vertical-align: middle;\n",
       "    }\n",
       "\n",
       "    .dataframe tbody tr th {\n",
       "        vertical-align: top;\n",
       "    }\n",
       "\n",
       "    .dataframe thead th {\n",
       "        text-align: right;\n",
       "    }\n",
       "</style>\n",
       "<table border=\"1\" class=\"dataframe\">\n",
       "  <thead>\n",
       "    <tr style=\"text-align: right;\">\n",
       "      <th></th>\n",
       "      <th>종목코드</th>\n",
       "      <th>회사명</th>\n",
       "    </tr>\n",
       "  </thead>\n",
       "  <tbody>\n",
       "    <tr>\n",
       "      <th>0</th>\n",
       "      <td>000210</td>\n",
       "      <td>DL</td>\n",
       "    </tr>\n",
       "    <tr>\n",
       "      <th>1</th>\n",
       "      <td>004840</td>\n",
       "      <td>DRB동일</td>\n",
       "    </tr>\n",
       "    <tr>\n",
       "      <th>2</th>\n",
       "      <td>155660</td>\n",
       "      <td>DSR</td>\n",
       "    </tr>\n",
       "    <tr>\n",
       "      <th>3</th>\n",
       "      <td>078930</td>\n",
       "      <td>GS</td>\n",
       "    </tr>\n",
       "    <tr>\n",
       "      <th>4</th>\n",
       "      <td>092220</td>\n",
       "      <td>KEC</td>\n",
       "    </tr>\n",
       "    <tr>\n",
       "      <th>5</th>\n",
       "      <td>016380</td>\n",
       "      <td>KG동부제철</td>\n",
       "    </tr>\n",
       "    <tr>\n",
       "      <th>6</th>\n",
       "      <td>001390</td>\n",
       "      <td>KG케미칼</td>\n",
       "    </tr>\n",
       "    <tr>\n",
       "      <th>7</th>\n",
       "      <td>025000</td>\n",
       "      <td>KPX케미칼</td>\n",
       "    </tr>\n",
       "    <tr>\n",
       "      <th>8</th>\n",
       "      <td>058860</td>\n",
       "      <td>KTis</td>\n",
       "    </tr>\n",
       "    <tr>\n",
       "      <th>9</th>\n",
       "      <td>011070</td>\n",
       "      <td>LG이노텍</td>\n",
       "    </tr>\n",
       "  </tbody>\n",
       "</table>\n",
       "</div>"
      ],
      "text/plain": [
       "     종목코드     회사명\n",
       "0  000210      DL\n",
       "1  004840   DRB동일\n",
       "2  155660     DSR\n",
       "3  078930      GS\n",
       "4  092220     KEC\n",
       "5  016380  KG동부제철\n",
       "6  001390   KG케미칼\n",
       "7  025000  KPX케미칼\n",
       "8  058860    KTis\n",
       "9  011070   LG이노텍"
      ]
     },
     "execution_count": 3,
     "metadata": {},
     "output_type": "execute_result"
    }
   ],
   "source": [
    "df_stock.head(10)"
   ]
  },
  {
   "cell_type": "markdown",
   "id": "fce72b35",
   "metadata": {},
   "source": [
    "## MySQL 연결"
   ]
  },
  {
   "cell_type": "code",
   "execution_count": 4,
   "id": "410d59d5",
   "metadata": {},
   "outputs": [],
   "source": [
    "# pip install mysqlclient"
   ]
  },
  {
   "cell_type": "code",
   "execution_count": 5,
   "id": "f39109d3",
   "metadata": {},
   "outputs": [],
   "source": [
    "import MySQLdb"
   ]
  },
  {
   "cell_type": "code",
   "execution_count": 6,
   "id": "22a5091f",
   "metadata": {},
   "outputs": [],
   "source": [
    "mydb = MySQLdb.connect(\n",
    "    host=\"localhost\",\n",
    "    user=\"root\", \n",
    "    passwd=\"1234\", \n",
    "    db=\"stock_simulator\"\n",
    ")\n",
    "\n",
    "mydb.set_character_set('utf8')\n",
    "\n",
    "mycursor = mydb.cursor()"
   ]
  },
  {
   "cell_type": "markdown",
   "id": "bff57bfc",
   "metadata": {},
   "source": [
    "## MySQL SQL문 실행"
   ]
  },
  {
   "cell_type": "markdown",
   "id": "aa467eff",
   "metadata": {},
   "source": [
    "### Drop Table"
   ]
  },
  {
   "cell_type": "code",
   "execution_count": 7,
   "id": "49ae9878",
   "metadata": {},
   "outputs": [
    {
     "data": {
      "text/plain": [
       "0"
      ]
     },
     "execution_count": 7,
     "metadata": {},
     "output_type": "execute_result"
    }
   ],
   "source": [
    "sql_drop_stock_table = (\n",
    "\n",
    "    \"DROP TABLE STOCK\"\n",
    "\n",
    ")\n",
    "\n",
    "mycursor.execute(sql_drop_stock_table)"
   ]
  },
  {
   "cell_type": "markdown",
   "id": "9f309f72",
   "metadata": {},
   "source": [
    "### Create Table"
   ]
  },
  {
   "cell_type": "code",
   "execution_count": 8,
   "id": "d7f35c54",
   "metadata": {},
   "outputs": [
    {
     "data": {
      "text/plain": [
       "0"
      ]
     },
     "execution_count": 8,
     "metadata": {},
     "output_type": "execute_result"
    }
   ],
   "source": [
    "sql_create_stock_table = (\n",
    "\n",
    "    \"CREATE TABLE STOCK (\" +\n",
    "        \"STOCK_CODE VARCHAR(255) NOT NULL, \" +\n",
    "        \"STOCK_NAME VARCHAR(255) NOT NULL, \" +\n",
    "        \"PRIMARY KEY (STOCK_CODE) \" +\n",
    "    \")\"\n",
    "\n",
    ")\n",
    "\n",
    "mycursor.execute(sql_create_stock_table)"
   ]
  },
  {
   "cell_type": "markdown",
   "id": "9da3633b",
   "metadata": {},
   "source": [
    "### Insert Data"
   ]
  },
  {
   "cell_type": "code",
   "execution_count": 9,
   "id": "43de68e9",
   "metadata": {},
   "outputs": [],
   "source": [
    "sql_insert_stock = \"INSERT INTO STOCK (STOCK_CODE, STOCK_NAME) VALUES (%s, %s)\"\n",
    "val_insert_stock = []\n",
    "for i in df_stock.index :\n",
    "    val_insert_stock.append((df_stock.loc[i,'종목코드'], df_stock.loc[i,'회사명']))\n",
    "    \n",
    "mycursor.executemany(sql_insert_stock, val_insert_stock)\n",
    "mydb.commit()"
   ]
  },
  {
   "cell_type": "markdown",
   "id": "823c9c32",
   "metadata": {},
   "source": [
    "## MySQL 연결 헤제"
   ]
  },
  {
   "cell_type": "code",
   "execution_count": 10,
   "id": "cd6755a5",
   "metadata": {},
   "outputs": [],
   "source": [
    "mydb.close()"
   ]
  },
  {
   "cell_type": "code",
   "execution_count": null,
   "id": "f8fab107",
   "metadata": {},
   "outputs": [],
   "source": []
  }
 ],
 "metadata": {
  "kernelspec": {
   "display_name": "Python 3 (ipykernel)",
   "language": "python",
   "name": "python3"
  },
  "language_info": {
   "codemirror_mode": {
    "name": "ipython",
    "version": 3
   },
   "file_extension": ".py",
   "mimetype": "text/x-python",
   "name": "python",
   "nbconvert_exporter": "python",
   "pygments_lexer": "ipython3",
   "version": "3.8.8"
  }
 },
 "nbformat": 4,
 "nbformat_minor": 5
}
